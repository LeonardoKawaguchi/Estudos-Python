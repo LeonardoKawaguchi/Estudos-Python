{
 "cells": [
  {
   "cell_type": "markdown",
   "metadata": {},
   "source": [
    "# Loops "
   ]
  },
  {
   "cell_type": "markdown",
   "metadata": {},
   "source": [
    "###  Instrução FOR"
   ]
  },
  {
   "cell_type": "code",
   "execution_count": 2,
   "metadata": {},
   "outputs": [
    {
     "ename": "SyntaxError",
     "evalue": "invalid syntax (<ipython-input-2-93206a3ae335>, line 3)",
     "output_type": "error",
     "traceback": [
      "\u001b[1;36m  File \u001b[1;32m\"<ipython-input-2-93206a3ae335>\"\u001b[1;36m, line \u001b[1;32m3\u001b[0m\n\u001b[1;33m    <Execute uma ou mais ações>\u001b[0m\n\u001b[1;37m    ^\u001b[0m\n\u001b[1;31mSyntaxError\u001b[0m\u001b[1;31m:\u001b[0m invalid syntax\n"
     ]
    }
   ],
   "source": [
    "# Sintaxe\n",
    "for i in coleção:\n",
    "    <Execute uma ou mais ações>\n",
    "\n",
    "#Coleção: lista de número, strings, arquivo, tupla, dicionário.. etc.."
   ]
  },
  {
   "cell_type": "code",
   "execution_count": 6,
   "metadata": {},
   "outputs": [
    {
     "name": "stdout",
     "output_type": "stream",
     "text": [
      "Valor: 1\n",
      "Valor: 2\n",
      "Valor: 3\n",
      "Valor: 4\n",
      "Valor: 5\n"
     ]
    }
   ],
   "source": [
    "# Exemplos\n",
    "for i in [1,2,3,4,5]:\n",
    "    print(\"Valor: %s\" %i)"
   ]
  },
  {
   "cell_type": "code",
   "execution_count": 7,
   "metadata": {},
   "outputs": [
    {
     "name": "stdout",
     "output_type": "stream",
     "text": [
      "C\n",
      "i\n",
      "e\n",
      "n\n",
      "t\n",
      "i\n",
      "s\n",
      "t\n",
      "a\n",
      " \n",
      "d\n",
      "e\n",
      " \n",
      "D\n",
      "a\n",
      "d\n",
      "o\n",
      "s\n"
     ]
    }
   ],
   "source": [
    "# Exemplo String\n",
    "for caracter in 'Cientista de Dados':\n",
    "    print(caracter)"
   ]
  },
  {
   "cell_type": "code",
   "execution_count": 9,
   "metadata": {},
   "outputs": [
    {
     "name": "stdout",
     "output_type": "stream",
     "text": [
      "Ferrari\n",
      "Gol\n",
      "Fiat\n"
     ]
    }
   ],
   "source": [
    "#Exemplo Lista de Strings\n",
    "automoveis = ['Ferrari', \"Gol\", 'Fiat']\n",
    "for carro in automoveis:\n",
    "    print(carro)"
   ]
  },
  {
   "cell_type": "code",
   "execution_count": 10,
   "metadata": {},
   "outputs": [
    {
     "name": "stdout",
     "output_type": "stream",
     "text": [
      "Leo\n",
      "Camila\n",
      "Conceicao\n"
     ]
    }
   ],
   "source": [
    "# Exemplo Dicionário\n",
    "pessoas_idade = {'Leo':33, 'Camila':30, 'Conceicao': 60}\n",
    "for p in pessoas_idade:\n",
    "    print(p)"
   ]
  },
  {
   "cell_type": "code",
   "execution_count": 12,
   "metadata": {},
   "outputs": [
    {
     "name": "stdout",
     "output_type": "stream",
     "text": [
      "1\n",
      "3\n",
      "5\n",
      "7\n",
      "9\n"
     ]
    }
   ],
   "source": [
    "# Loops com estruturas condicionais\n",
    "# Imprimindo apenas números impares\n",
    "for i in [1,2,3,4,5,6,7,8,9,10]:\n",
    "    if (i % 2 > 0): # Resto da divisão maior que zero = números impares\n",
    "        print(i)"
   ]
  },
  {
   "cell_type": "code",
   "execution_count": 6,
   "metadata": {},
   "outputs": [
    {
     "name": "stdout",
     "output_type": "stream",
     "text": [
      "10 Ola\n",
      "15 Mundo\n",
      "20 Python\n"
     ]
    }
   ],
   "source": [
    "# Função ZIP() - Concatenar listas\n",
    "indice = [10,15,20]\n",
    "linhas = [\"Ola\",'Mundo','Python','teste']\n",
    "for i,l in zip(indice,linhas): # Percorre as lista de forma concatenada, acessa o primeiro da lista e o primeiro da segunda, segue com o segundo da primeira lista com o segundo da segunda lista.\n",
    "    print(i,l)"
   ]
  },
  {
   "cell_type": "markdown",
   "metadata": {},
   "source": [
    "### Loops Aninhados"
   ]
  },
  {
   "cell_type": "code",
   "execution_count": 7,
   "metadata": {},
   "outputs": [
    {
     "name": "stdout",
     "output_type": "stream",
     "text": [
      "Fase 1\n",
      "Banana\n",
      "Maçã\n",
      "Pêra\n",
      "Fase 2\n",
      "Banana\n",
      "Maçã\n",
      "Pêra\n",
      "Fase 3\n",
      "Banana\n",
      "Maçã\n",
      "Pêra\n"
     ]
    }
   ],
   "source": [
    "for i in ['Fase 1','Fase 2','Fase 3']:\n",
    "    print(i)\n",
    "    for y in ['Banana','Maçã','Pêra']:\n",
    "        print(y)"
   ]
  },
  {
   "cell_type": "markdown",
   "metadata": {},
   "source": [
    "### Instrução Break\n",
    "    Encerra um loop"
   ]
  },
  {
   "cell_type": "code",
   "execution_count": 8,
   "metadata": {},
   "outputs": [
    {
     "name": "stdout",
     "output_type": "stream",
     "text": [
      "Letra:  P\n",
      "Letra:  y\n",
      "Letra:  t\n",
      "Letra:  h\n"
     ]
    }
   ],
   "source": [
    "for letra in 'Python':\n",
    "    if letra == 'o':\n",
    "        break\n",
    "    print('Letra:',letra)"
   ]
  },
  {
   "cell_type": "markdown",
   "metadata": {},
   "source": [
    "### Instrução Continue\n",
    "    volta para a condição inicial do loop e continua sua execução, pula uma execução"
   ]
  },
  {
   "cell_type": "code",
   "execution_count": 9,
   "metadata": {},
   "outputs": [
    {
     "name": "stdout",
     "output_type": "stream",
     "text": [
      "Letra: P\n",
      "Letra: y\n",
      "Letra: t\n",
      "Letra: h\n",
      "Letra: n\n"
     ]
    }
   ],
   "source": [
    "for letra in 'Python':\n",
    "    if letra == 'o':\n",
    "        continue\n",
    "    print('Letra:',letra)"
   ]
  },
  {
   "cell_type": "code",
   "execution_count": null,
   "metadata": {},
   "outputs": [],
   "source": []
  }
 ],
 "metadata": {
  "kernelspec": {
   "display_name": "Python 3",
   "language": "python",
   "name": "python3"
  },
  "language_info": {
   "codemirror_mode": {
    "name": "ipython",
    "version": 3
   },
   "file_extension": ".py",
   "mimetype": "text/x-python",
   "name": "python",
   "nbconvert_exporter": "python",
   "pygments_lexer": "ipython3",
   "version": "3.8.5"
  }
 },
 "nbformat": 4,
 "nbformat_minor": 4
}
