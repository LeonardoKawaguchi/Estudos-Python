{
 "cells": [
  {
   "cell_type": "markdown",
   "metadata": {
    "colab_type": "text",
    "id": "t8qG28pDnfuM"
   },
   "source": [
    "# Exercícios - Capítulo Dominando o Python"
   ]
  },
  {
   "cell_type": "markdown",
   "metadata": {
    "colab_type": "text",
    "id": "N9fXnHvPnfuN"
   },
   "source": [
    "1) Imprima a frase \"Eu sou Minerador de Dados!\""
   ]
  },
  {
   "cell_type": "code",
   "execution_count": null,
   "metadata": {},
   "outputs": [],
   "source": [
    "print(\"Eu sou Minerador de Dados!\")"
   ]
  },
  {
   "cell_type": "markdown",
   "metadata": {
    "colab_type": "text",
    "id": "dK5aLDPDnfuO"
   },
   "source": [
    "2) Faça operações matemáticas de soma, subtração, multiplicação e divisão."
   ]
  },
  {
   "cell_type": "code",
   "execution_count": null,
   "metadata": {},
   "outputs": [],
   "source": [
    "a = 4\n",
    "b = 2\n",
    "\n",
    "print(\"Soma:\",a+b)\n",
    "print(\"Sub:\",b-a)\n",
    "print(\"Multi:\",a*b)\n",
    "print(\"Div:\",b/a)"
   ]
  },
  {
   "cell_type": "markdown",
   "metadata": {
    "colab_type": "text",
    "id": "Y1hfyqi3nfuO"
   },
   "source": [
    "3) Imprima o tipo de um determinado valor inteiro."
   ]
  },
  {
   "cell_type": "code",
   "execution_count": null,
   "metadata": {},
   "outputs": [],
   "source": [
    "a = 5\n",
    "print(type(a))\n",
    "print(a)"
   ]
  },
  {
   "cell_type": "markdown",
   "metadata": {
    "colab_type": "text",
    "id": "lpMenLb2nfuP"
   },
   "source": [
    "4) Converta o valor passado anteriormente para o tipo float"
   ]
  },
  {
   "cell_type": "code",
   "execution_count": null,
   "metadata": {},
   "outputs": [],
   "source": [
    "b = float(a)\n",
    "print(type(b))\n",
    "print(b)"
   ]
  },
  {
   "cell_type": "markdown",
   "metadata": {
    "colab_type": "text",
    "id": "L3naneHLnfuP"
   },
   "source": [
    "5) Faça a conversão do valor float recebido anteriormente para o tipo string"
   ]
  },
  {
   "cell_type": "code",
   "execution_count": null,
   "metadata": {},
   "outputs": [],
   "source": [
    "c = str(b)\n",
    "print(type(c))\n",
    "print(c)"
   ]
  },
  {
   "cell_type": "markdown",
   "metadata": {
    "colab_type": "text",
    "id": "DfN6mDVonfuQ"
   },
   "source": [
    "6) Utilizando funções de arredonamento faça:\n",
    "- Arredonde o valor 2.898\n",
    "- Arredonde o valor 2.4545455 e exiba apenas 4 cadas decimais"
   ]
  },
  {
   "cell_type": "code",
   "execution_count": null,
   "metadata": {},
   "outputs": [],
   "source": [
    "a = 2.898\n",
    "b = 2.4545455 \n",
    "\n",
    "print(round(a))\n",
    "print(round(b,4))"
   ]
  },
  {
   "cell_type": "markdown",
   "metadata": {
    "colab_type": "text",
    "id": "rKA0Gdl0nfuQ"
   },
   "source": [
    "7) Utilizando variáveis faça:\n",
    "- Defina uma variável com o seu nome e imprima o seu valor.\n",
    "- Imprima o tipo dessa variável.\n",
    "- Substitua o valor da sua variável nome com a concatenação do seu valor e o seu sobrenome, depois, imprima o novo valor.\n",
    "    - obs: O resultado dessa variável será Nome Sobrenome, exemplo, Felipe Santana.\n",
    "- Defina duas variaveis com os valores do seu email e idade com apenas uma linha de comando, depois, imprima seus valores."
   ]
  },
  {
   "cell_type": "code",
   "execution_count": null,
   "metadata": {},
   "outputs": [],
   "source": [
    "nome = \"Leonardo\"\n",
    "print(nome)\n",
    "nome = nome + \" \" + \"Kawaguchi\"\n",
    "print(nome)\n",
    "email, idade = \"leonardo.kawaguchi@gmail.com\", 33\n",
    "print(email, idade)"
   ]
  },
  {
   "cell_type": "markdown",
   "metadata": {
    "colab_type": "text",
    "id": "Xj8LZ11infuR"
   },
   "source": [
    "8) Explique a causa do erro se executar a seguinte instrução para criar uma nova variável: break=10"
   ]
  },
  {
   "cell_type": "markdown",
   "metadata": {},
   "source": [
    "R: Porque a palavra 'break' é uma palavra reservada na linguagem python, logo não pode ser utilizada como uma variável."
   ]
  },
  {
   "cell_type": "markdown",
   "metadata": {
    "colab_type": "text",
    "id": "UipeTegTnfuS"
   },
   "source": [
    "9) Sobre os objetos Strings, faça:\n",
    "- Defina uma variavel com a string: \"Python é uma maldição!\" e imprima\n",
    "- Imprima o primeiro caracter da variavel.\n",
    "- Imprima os valores do primeiro caracter até o 6.\n",
    "- Faça a contagem de todos os caracteres utilizando uma única linha de comando.\n",
    "- Faça uma contagem de quantos vezes a palavra dados aparece na seguinte frase:\n",
    "    - \"dados é o novo petróleo, em Deus eu confio, para o resto me traga dados..\"\n",
    "- Substitua o primeiro caracter da frase acima para maiúsculo\n",
    "- Quebre as palavras da frase separado por virgula, criando uma lista."
   ]
  },
  {
   "cell_type": "code",
   "execution_count": null,
   "metadata": {},
   "outputs": [],
   "source": [
    "# Defina uma variavel com a string: \"Python é uma maldição!\" e imprima\n",
    "frase = 'Python é uma maldição!'\n",
    "print(frase)"
   ]
  },
  {
   "cell_type": "code",
   "execution_count": null,
   "metadata": {},
   "outputs": [],
   "source": [
    "# Imprima o primeiro caracter da variavel.\n",
    "frase[0]"
   ]
  },
  {
   "cell_type": "code",
   "execution_count": null,
   "metadata": {},
   "outputs": [],
   "source": [
    "# Imprima os valores do primeiro caracter até o 6.\n",
    "i = 0\n",
    "while i < 6:\n",
    "    print(frase[i])   \n",
    "    i = i + 1\n",
    "\n",
    "print(frase[0:6])"
   ]
  },
  {
   "cell_type": "code",
   "execution_count": null,
   "metadata": {},
   "outputs": [],
   "source": [
    "# Faça a contagem de todos os caracteres utilizando uma única linha de comando.\n",
    "len(frase)"
   ]
  },
  {
   "cell_type": "code",
   "execution_count": null,
   "metadata": {},
   "outputs": [],
   "source": [
    "#Faça uma contagem de quantos vezes a palavra dados aparece na seguinte frase:\n",
    "frase2 = \"dados é o novo petróleo, em Deus eu confio, para o resto me traga dados..\"\n",
    "frase2.count('dados')"
   ]
  },
  {
   "cell_type": "code",
   "execution_count": null,
   "metadata": {},
   "outputs": [],
   "source": [
    "# Substitua o primeiro caracter da frase acima para maiúsculo\n",
    "frase2.capitalize()"
   ]
  },
  {
   "cell_type": "code",
   "execution_count": null,
   "metadata": {},
   "outputs": [],
   "source": [
    "# Quebre as palavras da frase separado por virgula, criando uma lista.\n",
    "frase2.split(',')"
   ]
  },
  {
   "cell_type": "markdown",
   "metadata": {
    "colab_type": "text",
    "id": "sOfK05ypnfuS"
   },
   "source": [
    "10) Trabalhando com Listas, faça:\n",
    "- Cria uma lista de valores inteiros com o nome idades.\n",
    "- Imprima apenas segundo elemento da lista.\n",
    "- Imprima a contagem de valores da lista.\n",
    "- Substitua o valor do segundo elemento da lista e imprima o resultado.\n",
    "- Imprima apenas os valores do segundo elemento em diante.\n",
    "- Remova qualquer elemento da lista e imprima o resultado.\n",
    "- Defina uma lista chamada salarios com os valores : 900,1200,1500,800,12587,10000.\n",
    "- Verifique se contém o valor 10000 na lista de salarios.\n",
    "- Imprima o menor e maior valor da lista.\n",
    "- Adicione o valor 7000 a lista.\n",
    "- Extenda a lista com dois novos elementos utilizando apenas um método.\n",
    "- Imprima o índice do elemento de valor 800 da lista de salarios.\n",
    "- Faça uma ordenação dos valores da lista de salarios em ordem crescente e decrescente."
   ]
  },
  {
   "cell_type": "code",
   "execution_count": 15,
   "metadata": {},
   "outputs": [
    {
     "data": {
      "text/plain": [
       "[40, 30, 60, 66]"
      ]
     },
     "execution_count": 15,
     "metadata": {},
     "output_type": "execute_result"
    }
   ],
   "source": [
    "# Cria uma lista de valores inteiros com o nome idades.\n",
    "idades = [40,30,60,66] \n",
    "idades"
   ]
  },
  {
   "cell_type": "code",
   "execution_count": 16,
   "metadata": {},
   "outputs": [
    {
     "data": {
      "text/plain": [
       "30"
      ]
     },
     "execution_count": 16,
     "metadata": {},
     "output_type": "execute_result"
    }
   ],
   "source": [
    "# Imprima apenas segundo elemento da lista.\n",
    "idades[1]"
   ]
  },
  {
   "cell_type": "code",
   "execution_count": 17,
   "metadata": {},
   "outputs": [
    {
     "data": {
      "text/plain": [
       "4"
      ]
     },
     "execution_count": 17,
     "metadata": {},
     "output_type": "execute_result"
    }
   ],
   "source": [
    "# Imprima a contagem de valores da lista.\n",
    "len(idades)"
   ]
  },
  {
   "cell_type": "code",
   "execution_count": null,
   "metadata": {},
   "outputs": [],
   "source": [
    "# Substitua o valor do segundo elemento da lista e imprima o resultado.\n",
    "idades[1] = 100\n",
    "idades[1]"
   ]
  },
  {
   "cell_type": "code",
   "execution_count": null,
   "metadata": {},
   "outputs": [],
   "source": [
    "# Imprima apenas os valores do segundo elemento em diante.\n",
    "idades[1:]"
   ]
  },
  {
   "cell_type": "code",
   "execution_count": null,
   "metadata": {},
   "outputs": [],
   "source": [
    "idades.pop()"
   ]
  },
  {
   "cell_type": "code",
   "execution_count": null,
   "metadata": {},
   "outputs": [],
   "source": [
    "idades"
   ]
  },
  {
   "cell_type": "code",
   "execution_count": 2,
   "metadata": {},
   "outputs": [
    {
     "data": {
      "text/plain": [
       "[900, 1200, 1500, 800, 12587, 10000]"
      ]
     },
     "execution_count": 2,
     "metadata": {},
     "output_type": "execute_result"
    }
   ],
   "source": [
    "# Defina uma lista chamada salarios com os valores : 900,1200,1500,800,12587,10000.\n",
    "salarios = [900,1200,1500,800,12587,10000]\n",
    "salarios"
   ]
  },
  {
   "cell_type": "code",
   "execution_count": 18,
   "metadata": {},
   "outputs": [
    {
     "data": {
      "text/plain": [
       "True"
      ]
     },
     "execution_count": 18,
     "metadata": {},
     "output_type": "execute_result"
    }
   ],
   "source": [
    "# Verifique se contém o valor 10000 na lista de salarios.\n",
    "##salarios.count(10000) - Minha resposta\n",
    "# Correta:\n",
    "10000 in salarios"
   ]
  },
  {
   "cell_type": "code",
   "execution_count": 4,
   "metadata": {},
   "outputs": [
    {
     "name": "stdout",
     "output_type": "stream",
     "text": [
      "12587\n",
      "800\n"
     ]
    }
   ],
   "source": [
    "#Imprima o menor e maior valor da lista.\n",
    "print(max(salarios))\n",
    "print(min(salarios))"
   ]
  },
  {
   "cell_type": "code",
   "execution_count": 5,
   "metadata": {},
   "outputs": [
    {
     "data": {
      "text/plain": [
       "[900, 1200, 1500, 800, 12587, 10000, 7000]"
      ]
     },
     "execution_count": 5,
     "metadata": {},
     "output_type": "execute_result"
    }
   ],
   "source": [
    "# Adicione o valor 7000 a lista.\n",
    "salarios.append(7000)\n",
    "salarios"
   ]
  },
  {
   "cell_type": "code",
   "execution_count": 6,
   "metadata": {},
   "outputs": [
    {
     "data": {
      "text/plain": [
       "[900, 1200, 1500, 800, 12587, 10000, 7000, 9000, 5000]"
      ]
     },
     "execution_count": 6,
     "metadata": {},
     "output_type": "execute_result"
    }
   ],
   "source": [
    "# Extenda a lista com dois novos elementos utilizando apenas um método.\n",
    "salarios.extend([9000,5000])\n",
    "salarios\n"
   ]
  },
  {
   "cell_type": "code",
   "execution_count": 13,
   "metadata": {},
   "outputs": [
    {
     "data": {
      "text/plain": [
       "8"
      ]
     },
     "execution_count": 13,
     "metadata": {},
     "output_type": "execute_result"
    }
   ],
   "source": [
    "# Imprima o índice do elemento de valor 800 da lista de salarios.\n",
    "salarios.index(800)"
   ]
  },
  {
   "cell_type": "code",
   "execution_count": 9,
   "metadata": {},
   "outputs": [
    {
     "data": {
      "text/plain": [
       "[800, 900, 1200, 1500, 5000, 7000, 9000, 10000, 12587]"
      ]
     },
     "execution_count": 9,
     "metadata": {},
     "output_type": "execute_result"
    }
   ],
   "source": [
    "# Faça uma ordenação dos valores da lista de salarios em ordem crescente e decrescente.\n",
    "salarios.sort()\n",
    "salarios"
   ]
  },
  {
   "cell_type": "code",
   "execution_count": 12,
   "metadata": {},
   "outputs": [
    {
     "data": {
      "text/plain": [
       "[12587, 10000, 9000, 7000, 5000, 1500, 1200, 900, 800]"
      ]
     },
     "execution_count": 12,
     "metadata": {},
     "output_type": "execute_result"
    }
   ],
   "source": [
    "# Ou salarios.sort(reverse=True)\n",
    "salarios.reverse()\n",
    "salarios"
   ]
  },
  {
   "cell_type": "code",
   "execution_count": null,
   "metadata": {},
   "outputs": [],
   "source": []
  }
 ],
 "metadata": {
  "colab": {
   "name": "Lista 01 - Capitulo 03 - Dominando o Python.ipynb",
   "provenance": [],
   "version": "0.3.2"
  },
  "kernelspec": {
   "display_name": "Python 3",
   "language": "python",
   "name": "python3"
  },
  "language_info": {
   "codemirror_mode": {
    "name": "ipython",
    "version": 3
   },
   "file_extension": ".py",
   "mimetype": "text/x-python",
   "name": "python",
   "nbconvert_exporter": "python",
   "pygments_lexer": "ipython3",
   "version": "3.8.5"
  },
  "widgets": {
   "application/vnd.jupyter.widget-state+json": {
    "state": {},
    "version_major": 2,
    "version_minor": 0
   }
  }
 },
 "nbformat": 4,
 "nbformat_minor": 1
}
