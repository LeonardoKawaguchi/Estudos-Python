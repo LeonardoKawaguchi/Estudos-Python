{
 "cells": [
  {
   "cell_type": "markdown",
   "metadata": {},
   "source": [
    "# Estruturas Condicionais"
   ]
  },
  {
   "cell_type": "code",
   "execution_count": 2,
   "metadata": {},
   "outputs": [
    {
     "data": {
      "text/plain": [
       "True"
      ]
     },
     "execution_count": 2,
     "metadata": {},
     "output_type": "execute_result"
    }
   ],
   "source": [
    "# Retorno Boleano\n",
    "10 > 1"
   ]
  },
  {
   "cell_type": "code",
   "execution_count": 3,
   "metadata": {},
   "outputs": [
    {
     "data": {
      "text/plain": [
       "False"
      ]
     },
     "execution_count": 3,
     "metadata": {},
     "output_type": "execute_result"
    }
   ],
   "source": [
    "5 <= 4"
   ]
  },
  {
   "cell_type": "markdown",
   "metadata": {},
   "source": [
    "### Instrução IF"
   ]
  },
  {
   "cell_type": "code",
   "execution_count": 4,
   "metadata": {},
   "outputs": [],
   "source": [
    "# Não retorna nada porque a condição 10 < 1 é falsa\n",
    "if 10 < 1:\n",
    "    print('Verdadeiro')\n",
    "    print(1+2)\n",
    "    print('Ultimo Comando')"
   ]
  },
  {
   "cell_type": "code",
   "execution_count": 5,
   "metadata": {},
   "outputs": [
    {
     "name": "stdout",
     "output_type": "stream",
     "text": [
      "Verdadeiro\n",
      "3\n",
      "Ultimo Comando\n"
     ]
    }
   ],
   "source": [
    "# Se invertermos, executa normalmente pois entra na condição if por ser true\n",
    "if 10 > 1:\n",
    "    print('Verdadeiro')\n",
    "    print(1+2)\n",
    "    print('Ultimo Comando')"
   ]
  },
  {
   "cell_type": "code",
   "execution_count": 6,
   "metadata": {},
   "outputs": [
    {
     "ename": "IndentationError",
     "evalue": "expected an indented block (<ipython-input-6-2e79ec427ae6>, line 3)",
     "output_type": "error",
     "traceback": [
      "\u001b[1;36m  File \u001b[1;32m\"<ipython-input-6-2e79ec427ae6>\"\u001b[1;36m, line \u001b[1;32m3\u001b[0m\n\u001b[1;33m    print('verdadeiro')\u001b[0m\n\u001b[1;37m    ^\u001b[0m\n\u001b[1;31mIndentationError\u001b[0m\u001b[1;31m:\u001b[0m expected an indented block\n"
     ]
    }
   ],
   "source": [
    "# Lembrando que o Python identifica as instruções que estão dentro do if através da identação.\n",
    "if 10>1:\n",
    "print('verdadeiro')"
   ]
  },
  {
   "cell_type": "markdown",
   "metadata": {},
   "source": [
    "### Instruição ELSE\n",
    "    É executada caso a instruição IF seja FALSE"
   ]
  },
  {
   "cell_type": "code",
   "execution_count": 8,
   "metadata": {},
   "outputs": [
    {
     "name": "stdout",
     "output_type": "stream",
     "text": [
      "Falso\n"
     ]
    }
   ],
   "source": [
    "if (10 < 1):\n",
    "    print('Verdadeiro')\n",
    "else:\n",
    "    print('Falso')"
   ]
  },
  {
   "cell_type": "code",
   "execution_count": 9,
   "metadata": {},
   "outputs": [
    {
     "name": "stdout",
     "output_type": "stream",
     "text": [
      "Verdadeiro\n"
     ]
    }
   ],
   "source": [
    "if (10 > 1):\n",
    "    print('Verdadeiro')\n",
    "else:\n",
    "    print('Falso')"
   ]
  },
  {
   "cell_type": "markdown",
   "metadata": {},
   "source": [
    "### Operadores OR e AND\n",
    "    Caso seja utilizado o operador OR, bata uma das condições ser verdadeira para que o retorno seja TRUE\n",
    "    Caso seja utilizado o operador AND, ambas as condições precisam ser verdadeiras para que seja TRUE"
   ]
  },
  {
   "cell_type": "code",
   "execution_count": 10,
   "metadata": {},
   "outputs": [
    {
     "name": "stdout",
     "output_type": "stream",
     "text": [
      "Olá Camila!\n"
     ]
    }
   ],
   "source": [
    "# Operador OR\n",
    "nome = 'Camila'\n",
    "if 10 > 100 or nome == 'Camila':\n",
    "    print('Olá Camila!')\n",
    "else:\n",
    "    print('Você não é Camila')"
   ]
  },
  {
   "cell_type": "code",
   "execution_count": 11,
   "metadata": {},
   "outputs": [
    {
     "name": "stdout",
     "output_type": "stream",
     "text": [
      "Você não é Camila\n"
     ]
    }
   ],
   "source": [
    "# Operador AND\n",
    "# 10 > 100 -> FALSE\n",
    "# nome == 'Camila' -> TRUE\n",
    "if 10 > 100 and nome == 'Camila':\n",
    "    print('Olá Camila!')\n",
    "else:\n",
    "    print('Você não é Camila')"
   ]
  },
  {
   "cell_type": "markdown",
   "metadata": {},
   "source": [
    "### Instrução ELIF\n",
    "    A instrução ELIF é acionada caso a instrução IF for FAlSA\n",
    "    Entende-se ELIF por 'SENAO SE'\n",
    "    É possível adicionar uma outra condição, ao contrário da instruição ELSE que considera apenas que o IF seja FALSO."
   ]
  },
  {
   "cell_type": "code",
   "execution_count": 18,
   "metadata": {},
   "outputs": [],
   "source": [
    "valor = 50"
   ]
  },
  {
   "cell_type": "code",
   "execution_count": 19,
   "metadata": {},
   "outputs": [
    {
     "name": "stdout",
     "output_type": "stream",
     "text": [
      "Valor maior que 50!\n"
     ]
    }
   ],
   "source": [
    "if valor > 100:\n",
    "    print('Valor maior que 100!')\n",
    "elif valor >= 50:\n",
    "    print('Valor maior que 50!')\n",
    "else:\n",
    "    print('Valor menor que 50!')"
   ]
  },
  {
   "cell_type": "markdown",
   "metadata": {},
   "source": [
    "### Instrução IF aninhadas"
   ]
  },
  {
   "cell_type": "code",
   "execution_count": 22,
   "metadata": {},
   "outputs": [
    {
     "name": "stdout",
     "output_type": "stream",
     "text": [
      "Senha inválida\n"
     ]
    }
   ],
   "source": [
    "usuário = 'Leonardo'\n",
    "senha = '123'\n",
    "if usuário == 'Leonardo':\n",
    "    if senha == '123456':\n",
    "        print('Login efetuado com Sucesso!')\n",
    "    else:\n",
    "        print('Senha inválida')\n",
    "else:\n",
    "    print('Usuário inválido')"
   ]
  },
  {
   "cell_type": "code",
   "execution_count": null,
   "metadata": {},
   "outputs": [],
   "source": []
  }
 ],
 "metadata": {
  "kernelspec": {
   "display_name": "Python 3",
   "language": "python",
   "name": "python3"
  },
  "language_info": {
   "codemirror_mode": {
    "name": "ipython",
    "version": 3
   },
   "file_extension": ".py",
   "mimetype": "text/x-python",
   "name": "python",
   "nbconvert_exporter": "python",
   "pygments_lexer": "ipython3",
   "version": "3.8.5"
  }
 },
 "nbformat": 4,
 "nbformat_minor": 4
}
