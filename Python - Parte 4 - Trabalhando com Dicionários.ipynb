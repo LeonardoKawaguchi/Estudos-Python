{
 "cells": [
  {
   "cell_type": "markdown",
   "metadata": {},
   "source": [
    "# Trabalhando com Dicionários\n",
    "São estrutura de dados completas, trabalham com a estrutura de chave:valor\n",
    "Podem sofrer alteração\n",
    "Podem conter dicionários e listas"
   ]
  },
  {
   "cell_type": "code",
   "execution_count": 3,
   "metadata": {},
   "outputs": [
    {
     "data": {
      "text/plain": [
       "dict"
      ]
     },
     "execution_count": 3,
     "metadata": {},
     "output_type": "execute_result"
    }
   ],
   "source": [
    "# Criando um dicionário {} são as principais diferenças\n",
    "dic = {}\n",
    "type(dic)"
   ]
  },
  {
   "cell_type": "code",
   "execution_count": 4,
   "metadata": {},
   "outputs": [
    {
     "data": {
      "text/plain": [
       "{'Rodrigo': 30,\n",
       " 'Leonardo': 33,\n",
       " 'Maria': 55,\n",
       " 'Jose': 80,\n",
       " 'pesos': {'Rodrigo': 80, 'Leonardo': 110, 'Maria': 70, 'Jose': 87},\n",
       " 'Valores': [1, 3.5, 400, 5, 6],\n",
       " 'Strings': ['Python', 'Dados', 'Machine Learning']}"
      ]
     },
     "execution_count": 4,
     "metadata": {},
     "output_type": "execute_result"
    }
   ],
   "source": [
    "pessoas = {'Rodrigo':30, 'Leonardo':33, 'Maria':55, 'Jose':80,\n",
    "           'pesos':{'Rodrigo':80,'Leonardo':110,'Maria':70,'Jose':87},\n",
    "           'Valores':[1,3.5,400,5,6], 'Strings':['Python','Dados','Machine Learning']\n",
    "          }\n",
    "pessoas"
   ]
  },
  {
   "cell_type": "code",
   "execution_count": 5,
   "metadata": {},
   "outputs": [
    {
     "data": {
      "text/plain": [
       "33"
      ]
     },
     "execution_count": 5,
     "metadata": {},
     "output_type": "execute_result"
    }
   ],
   "source": [
    "# Acessamos os valores através das chaves\n",
    "pessoas['Leonardo']"
   ]
  },
  {
   "cell_type": "code",
   "execution_count": 6,
   "metadata": {},
   "outputs": [
    {
     "ename": "KeyError",
     "evalue": "'Camila'",
     "output_type": "error",
     "traceback": [
      "\u001b[1;31m---------------------------------------------------------------------------\u001b[0m",
      "\u001b[1;31mKeyError\u001b[0m                                  Traceback (most recent call last)",
      "\u001b[1;32m<ipython-input-6-22b3265f8f5f>\u001b[0m in \u001b[0;36m<module>\u001b[1;34m\u001b[0m\n\u001b[1;32m----> 1\u001b[1;33m \u001b[0mpessoas\u001b[0m\u001b[1;33m[\u001b[0m\u001b[1;34m'Camila'\u001b[0m\u001b[1;33m]\u001b[0m\u001b[1;33m\u001b[0m\u001b[1;33m\u001b[0m\u001b[0m\n\u001b[0m",
      "\u001b[1;31mKeyError\u001b[0m: 'Camila'"
     ]
    }
   ],
   "source": [
    "# Erro ao chamar chave que não existe\n",
    "pessoas['Camila']"
   ]
  },
  {
   "cell_type": "code",
   "execution_count": 7,
   "metadata": {},
   "outputs": [
    {
     "data": {
      "text/plain": [
       "{'Rodrigo': 80, 'Leonardo': 110, 'Maria': 70, 'Jose': 87}"
      ]
     },
     "execution_count": 7,
     "metadata": {},
     "output_type": "execute_result"
    }
   ],
   "source": [
    "pessoas['pesos']"
   ]
  },
  {
   "cell_type": "code",
   "execution_count": 8,
   "metadata": {},
   "outputs": [
    {
     "data": {
      "text/plain": [
       "110"
      ]
     },
     "execution_count": 8,
     "metadata": {},
     "output_type": "execute_result"
    }
   ],
   "source": [
    "#para acessar um dicionário dentro do dicionário\n",
    "pessoas['pesos']['Leonardo']"
   ]
  },
  {
   "cell_type": "code",
   "execution_count": 9,
   "metadata": {},
   "outputs": [
    {
     "data": {
      "text/plain": [
       "['Python', 'Dados', 'Machine Learning']"
      ]
     },
     "execution_count": 9,
     "metadata": {},
     "output_type": "execute_result"
    }
   ],
   "source": [
    "# Acessando lista dentro do dicionário\n",
    "pessoas['Strings']"
   ]
  },
  {
   "cell_type": "code",
   "execution_count": 10,
   "metadata": {},
   "outputs": [
    {
     "data": {
      "text/plain": [
       "'Machine Learning'"
      ]
     },
     "execution_count": 10,
     "metadata": {},
     "output_type": "execute_result"
    }
   ],
   "source": [
    "pessoas['Strings'][2]"
   ]
  },
  {
   "cell_type": "markdown",
   "metadata": {},
   "source": [
    "### Atualizando Dicionários"
   ]
  },
  {
   "cell_type": "code",
   "execution_count": 17,
   "metadata": {},
   "outputs": [
    {
     "data": {
      "text/plain": [
       "{'Rodrigo': 100,\n",
       " 'Leonardo': 33,\n",
       " 'Jose': 80,\n",
       " 'pesos': {'Rodrigo': 80, 'Leonardo': 110, 'Maria': 70, 'Jose': 87},\n",
       " 'Valores': [1, 3.5, 400, 5, 6],\n",
       " 'Strings': ['Python', 'Dados', 'Machine Learning'],\n",
       " 'Adriana': 30}"
      ]
     },
     "execution_count": 17,
     "metadata": {},
     "output_type": "execute_result"
    }
   ],
   "source": [
    "pessoas"
   ]
  },
  {
   "cell_type": "code",
   "execution_count": 12,
   "metadata": {},
   "outputs": [
    {
     "data": {
      "text/plain": [
       "100"
      ]
     },
     "execution_count": 12,
     "metadata": {},
     "output_type": "execute_result"
    }
   ],
   "source": [
    "#Atualizando os valores\n",
    "pessoas['Rodrigo'] = 100\n",
    "pessoas['Rodrigo']"
   ]
  },
  {
   "cell_type": "code",
   "execution_count": 14,
   "metadata": {},
   "outputs": [],
   "source": [
    "#Adicionando novas chaves:valores\n",
    "pessoas['Adriana']=30"
   ]
  },
  {
   "cell_type": "code",
   "execution_count": 16,
   "metadata": {},
   "outputs": [
    {
     "data": {
      "text/plain": [
       "{'Rodrigo': 100,\n",
       " 'Leonardo': 33,\n",
       " 'Jose': 80,\n",
       " 'pesos': {'Rodrigo': 80, 'Leonardo': 110, 'Maria': 70, 'Jose': 87},\n",
       " 'Valores': [1, 3.5, 400, 5, 6],\n",
       " 'Strings': ['Python', 'Dados', 'Machine Learning'],\n",
       " 'Adriana': 30}"
      ]
     },
     "execution_count": 16,
     "metadata": {},
     "output_type": "execute_result"
    }
   ],
   "source": [
    "#Removendo chaves:valores\n",
    "del pessoas['Maria']\n",
    "pessoas"
   ]
  },
  {
   "cell_type": "markdown",
   "metadata": {},
   "source": [
    "### Metodos Dispiníveis"
   ]
  },
  {
   "cell_type": "code",
   "execution_count": 19,
   "metadata": {},
   "outputs": [
    {
     "data": {
      "text/plain": [
       "dict_keys(['Rodrigo', 'Leonardo', 'Jose', 'pesos', 'Valores', 'Strings', 'Adriana'])"
      ]
     },
     "execution_count": 19,
     "metadata": {},
     "output_type": "execute_result"
    }
   ],
   "source": [
    "# Retornar as chaves do dicionários\n",
    "pessoas.keys()"
   ]
  },
  {
   "cell_type": "code",
   "execution_count": 20,
   "metadata": {},
   "outputs": [
    {
     "data": {
      "text/plain": [
       "dict_values([100, 33, 80, {'Rodrigo': 80, 'Leonardo': 110, 'Maria': 70, 'Jose': 87}, [1, 3.5, 400, 5, 6], ['Python', 'Dados', 'Machine Learning'], 30])"
      ]
     },
     "execution_count": 20,
     "metadata": {},
     "output_type": "execute_result"
    }
   ],
   "source": [
    "# Retorna os valores de todas as chaves do dicionário\n",
    "pessoas.values()"
   ]
  },
  {
   "cell_type": "code",
   "execution_count": 21,
   "metadata": {},
   "outputs": [],
   "source": [
    "pessoas2= {'Camila': 69, 'Verena': 61}"
   ]
  },
  {
   "cell_type": "code",
   "execution_count": 22,
   "metadata": {},
   "outputs": [
    {
     "data": {
      "text/plain": [
       "{'Rodrigo': 100,\n",
       " 'Leonardo': 33,\n",
       " 'Jose': 80,\n",
       " 'pesos': {'Rodrigo': 80, 'Leonardo': 110, 'Maria': 70, 'Jose': 87},\n",
       " 'Valores': [1, 3.5, 400, 5, 6],\n",
       " 'Strings': ['Python', 'Dados', 'Machine Learning'],\n",
       " 'Adriana': 30,\n",
       " 'Camila': 69,\n",
       " 'Verena': 61}"
      ]
     },
     "execution_count": 22,
     "metadata": {},
     "output_type": "execute_result"
    }
   ],
   "source": [
    "#Inserir os valores de um dicionário em outro\n",
    "pessoas.update(pessoas2)\n",
    "pessoas"
   ]
  },
  {
   "cell_type": "code",
   "execution_count": 23,
   "metadata": {},
   "outputs": [
    {
     "data": {
      "text/plain": [
       "'Não existe'"
      ]
     },
     "execution_count": 23,
     "metadata": {},
     "output_type": "execute_result"
    }
   ],
   "source": [
    "# Retornar o valor da chave caso ela exista, senão retorna uma msg parametrizada\n",
    "pessoas.get('Marcos','Não existe')"
   ]
  },
  {
   "cell_type": "code",
   "execution_count": 24,
   "metadata": {},
   "outputs": [
    {
     "data": {
      "text/plain": [
       "33"
      ]
     },
     "execution_count": 24,
     "metadata": {},
     "output_type": "execute_result"
    }
   ],
   "source": [
    "pessoas.get('Leonardo')"
   ]
  },
  {
   "cell_type": "code",
   "execution_count": 25,
   "metadata": {},
   "outputs": [
    {
     "data": {
      "text/plain": [
       "30"
      ]
     },
     "execution_count": 25,
     "metadata": {},
     "output_type": "execute_result"
    }
   ],
   "source": [
    "# Retorna o valor da chave caso ela exista, senão inseri a chava e o valor no dicionário\n",
    "pessoas.setdefault('Marcos',30)"
   ]
  },
  {
   "cell_type": "code",
   "execution_count": 26,
   "metadata": {},
   "outputs": [
    {
     "data": {
      "text/plain": [
       "{'Rodrigo': 100,\n",
       " 'Leonardo': 33,\n",
       " 'Jose': 80,\n",
       " 'pesos': {'Rodrigo': 80, 'Leonardo': 110, 'Maria': 70, 'Jose': 87},\n",
       " 'Valores': [1, 3.5, 400, 5, 6],\n",
       " 'Strings': ['Python', 'Dados', 'Machine Learning'],\n",
       " 'Adriana': 30,\n",
       " 'Camila': 69,\n",
       " 'Verena': 61,\n",
       " 'Marcos': 30}"
      ]
     },
     "execution_count": 26,
     "metadata": {},
     "output_type": "execute_result"
    }
   ],
   "source": [
    "pessoas"
   ]
  },
  {
   "cell_type": "code",
   "execution_count": 27,
   "metadata": {},
   "outputs": [
    {
     "data": {
      "text/plain": [
       "'Chave não existe'"
      ]
     },
     "execution_count": 27,
     "metadata": {},
     "output_type": "execute_result"
    }
   ],
   "source": [
    "# Remover o valor da chave, e se não encontrar envia a msg parametrizada\n",
    "pessoas.pop('Elena','Chave não existe')"
   ]
  },
  {
   "cell_type": "code",
   "execution_count": 28,
   "metadata": {},
   "outputs": [
    {
     "data": {
      "text/plain": [
       "30"
      ]
     },
     "execution_count": 28,
     "metadata": {},
     "output_type": "execute_result"
    }
   ],
   "source": [
    "pessoas.pop('Marcos','Chave não existe')"
   ]
  },
  {
   "cell_type": "code",
   "execution_count": 29,
   "metadata": {},
   "outputs": [
    {
     "data": {
      "text/plain": [
       "{'Rodrigo': 100,\n",
       " 'Leonardo': 33,\n",
       " 'Jose': 80,\n",
       " 'pesos': {'Rodrigo': 80, 'Leonardo': 110, 'Maria': 70, 'Jose': 87},\n",
       " 'Valores': [1, 3.5, 400, 5, 6],\n",
       " 'Strings': ['Python', 'Dados', 'Machine Learning'],\n",
       " 'Adriana': 30,\n",
       " 'Camila': 69,\n",
       " 'Verena': 61}"
      ]
     },
     "execution_count": 29,
     "metadata": {},
     "output_type": "execute_result"
    }
   ],
   "source": [
    "pessoas"
   ]
  },
  {
   "cell_type": "code",
   "execution_count": 30,
   "metadata": {},
   "outputs": [],
   "source": [
    "#Apagar todo o dicionário\n",
    "pessoas.clear()"
   ]
  },
  {
   "cell_type": "code",
   "execution_count": 31,
   "metadata": {},
   "outputs": [
    {
     "data": {
      "text/plain": [
       "{}"
      ]
     },
     "execution_count": 31,
     "metadata": {},
     "output_type": "execute_result"
    }
   ],
   "source": [
    "pessoas"
   ]
  },
  {
   "cell_type": "code",
   "execution_count": null,
   "metadata": {},
   "outputs": [],
   "source": []
  }
 ],
 "metadata": {
  "kernelspec": {
   "display_name": "Python 3",
   "language": "python",
   "name": "python3"
  },
  "language_info": {
   "codemirror_mode": {
    "name": "ipython",
    "version": 3
   },
   "file_extension": ".py",
   "mimetype": "text/x-python",
   "name": "python",
   "nbconvert_exporter": "python",
   "pygments_lexer": "ipython3",
   "version": "3.8.5"
  }
 },
 "nbformat": 4,
 "nbformat_minor": 4
}
